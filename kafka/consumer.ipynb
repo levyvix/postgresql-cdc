{
 "cells": [
  {
   "cell_type": "code",
   "execution_count": null,
   "metadata": {},
   "outputs": [],
   "source": [
    "from kafka import KafkaConsumer\n",
    "\n",
    "\n",
    "consumer = KafkaConsumer(\n",
    "    bootstrap_servers=[\"localhost:9093\"],\n",
    "    auto_offset_reset=\"earliest\",\n",
    "    enable_auto_commit=False,\n",
    ")\n",
    "\n",
    "consumer.subscribe(\n",
    "    [\n",
    "        \"cdc.sales.orders\",\n",
    "    ]  # \"postgres.sales.products\", \"postgres.sales.orders\"]\n",
    ")"
   ]
  },
  {
   "cell_type": "code",
   "execution_count": null,
   "metadata": {},
   "outputs": [],
   "source": [
    "consumer.topics()"
   ]
  },
  {
   "cell_type": "code",
   "execution_count": null,
   "metadata": {},
   "outputs": [],
   "source": [
    "for m in consumer:\n",
    "    print(m.topic, m.value)"
   ]
  }
 ],
 "metadata": {
  "kernelspec": {
   "display_name": ".venv",
   "language": "python",
   "name": "python3"
  },
  "language_info": {
   "codemirror_mode": {
    "name": "ipython",
    "version": 3
   },
   "file_extension": ".py",
   "mimetype": "text/x-python",
   "name": "python",
   "nbconvert_exporter": "python",
   "pygments_lexer": "ipython3",
   "version": "3.11.8"
  }
 },
 "nbformat": 4,
 "nbformat_minor": 2
}
